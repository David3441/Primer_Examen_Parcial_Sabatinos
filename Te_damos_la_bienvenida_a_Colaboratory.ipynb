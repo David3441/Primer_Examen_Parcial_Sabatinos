{
  "cells": [
    {
      "cell_type": "markdown",
      "metadata": {
        "id": "view-in-github",
        "colab_type": "text"
      },
      "source": [
        "<a href=\"https://colab.research.google.com/github/David3441/Primer_Examen_Parcial_Sabatinos/blob/main/Te_damos_la_bienvenida_a_Colaboratory.ipynb\" target=\"_parent\"><img src=\"https://colab.research.google.com/assets/colab-badge.svg\" alt=\"Open In Colab\"/></a>"
      ]
    },
    {
      "cell_type": "markdown",
      "source": [
        "Actuvidad 2 Ejercicios Básicos en Python\n",
        "David Guajardo Garcia 1830137 Hora: N5,N2,N3."
      ],
      "metadata": {
        "id": "kKljgWlPs6fL"
      }
    },
    {
      "cell_type": "code",
      "source": [
        "nombre = input(\"Dime tu nombre\")\n",
        "if nombre in ['Ana','Juan','Pedro']:\n",
        " print(\"A ti no te saludo\")\n",
        "else:\n",
        " print(\"Hola \"+nombre+\" como estas?\")"
      ],
      "metadata": {
        "colab": {
          "base_uri": "https://localhost:8080/"
        },
        "id": "jMfaN4Vgtp5M",
        "outputId": "8f9b114e-77dd-4a69-c8f8-af3416d811eb"
      },
      "execution_count": 13,
      "outputs": [
        {
          "output_type": "stream",
          "name": "stdout",
          "text": [
            "Dime tu nombreDavid\n",
            "Hola David como estas?\n"
          ]
        }
      ]
    },
    {
      "cell_type": "code",
      "source": [
        "valor = []\n",
        "for i in range(5):\n",
        " print(\"Dame el valor\",i, \"de la lista\")\n",
        " a = input()\n",
        " valor.append(a)\n",
        "print(\"El ultimo elemento en lista es \",valor[i])\n",
        "print(\"La lista invertida seria: \")\n",
        "b = list(reversed(valor))\n",
        "print(b)"
      ],
      "metadata": {
        "colab": {
          "base_uri": "https://localhost:8080/"
        },
        "id": "Hk8J3jm6t8ui",
        "outputId": "8949e0a2-1977-4458-a130-06acffe081b9"
      },
      "execution_count": 1,
      "outputs": [
        {
          "output_type": "stream",
          "name": "stdout",
          "text": [
            "Dame el valor 0 de la lista\n",
            "1\n",
            "Dame el valor 1 de la lista\n",
            "2\n",
            "Dame el valor 2 de la lista\n",
            "8\n",
            "Dame el valor 3 de la lista\n",
            "5\n",
            "Dame el valor 4 de la lista\n",
            "6\n",
            "El ultimo elemento en lista es  6\n",
            "La lista invertida seria: \n",
            "['6', '5', '8', '2', '1']\n"
          ]
        }
      ]
    },
    {
      "cell_type": "code",
      "source": [
        "palabra = [];\n",
        "for i in range(4):\n",
        " print(\"Dame la palabra \",i ,\" del marco\")\n",
        " a = input()\n",
        " palabra.append(a)\n",
        "print(\"***\")\n",
        "for i in range(4):\n",
        " print(\"* \", palabra[i], \" *\")\n",
        "print(\"***\")"
      ],
      "metadata": {
        "colab": {
          "base_uri": "https://localhost:8080/"
        },
        "id": "_kGtqJ5ObLux",
        "outputId": "3dc97c9e-247f-4718-9c2b-f89e4ec25872"
      },
      "execution_count": 2,
      "outputs": [
        {
          "output_type": "stream",
          "name": "stdout",
          "text": [
            "Dame la palabra  0  del marco\n",
            "ana\n",
            "Dame la palabra  1  del marco\n",
            "david\n",
            "Dame la palabra  2  del marco\n",
            "javi\n",
            "Dame la palabra  3  del marco\n",
            "luis\n",
            "***\n",
            "*  ana  *\n",
            "*  david  *\n",
            "*  javi  *\n",
            "*  luis  *\n",
            "***\n"
          ]
        }
      ]
    }
  ],
  "metadata": {
    "colab": {
      "collapsed_sections": [],
      "name": "Te damos la bienvenida a Colaboratory",
      "toc_visible": true,
      "provenance": [],
      "include_colab_link": true
    },
    "kernelspec": {
      "display_name": "Python 3",
      "name": "python3"
    }
  },
  "nbformat": 4,
  "nbformat_minor": 0
}